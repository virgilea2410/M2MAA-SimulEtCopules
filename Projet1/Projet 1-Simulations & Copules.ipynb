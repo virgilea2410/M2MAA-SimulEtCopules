{
 "cells": [
  {
   "cell_type": "markdown",
   "metadata": {},
   "source": [
    "Alexandre CHEVAUX & Virgile AMATO"
   ]
  },
  {
   "cell_type": "markdown",
   "metadata": {},
   "source": [
    "### Introduction"
   ]
  },
  {
   "cell_type": "markdown",
   "metadata": {},
   "source": [
    "Import des librairies "
   ]
  },
  {
   "cell_type": "code",
   "execution_count": 27,
   "metadata": {},
   "outputs": [],
   "source": [
    "# pour la fonction persp3d\n",
    "require(\"rgl\")\n",
    "# pour la fonction quad2d\n",
    "require(\"pracma\")\n",
    "\n",
    "# si les packages ne sont pas encore installé : décommentez ces lignes en fonction\n",
    "# du packages voulu\n",
    "#install.packages(\"rgl\")\n",
    "#install.packages(\"pracma\")"
   ]
  },
  {
   "cell_type": "markdown",
   "metadata": {},
   "source": [
    "On se propose, dans ce projet, d'étudier différentes méthodes d'estimation d'intégrales, pour des fonctions bi-variées."
   ]
  },
  {
   "cell_type": "markdown",
   "metadata": {},
   "source": [
    "Ainsi, La fonction que nous étudierons tout au long de ce projet est la suivante : "
   ]
  },
  {
   "cell_type": "code",
   "execution_count": 28,
   "metadata": {},
   "outputs": [],
   "source": [
    "h = function\n",
    "    (x, y)\n",
    "{\n",
    "  return(1 + log(x + y) * 2 * x)\n",
    "}"
   ]
  },
  {
   "cell_type": "markdown",
   "metadata": {},
   "source": [
    "on affiche la fonction en 3D afin de l'étudier, en ayant défini au préalable son domaine de définition (support)."
   ]
  },
  {
   "cell_type": "markdown",
   "metadata": {},
   "source": [
    "Nous choisissons de définir la fonction sur (x, y) --> [0, 2] x [0, 3] "
   ]
  },
  {
   "cell_type": "markdown",
   "metadata": {},
   "source": [
    "Cela nous permet d'étudier la forme globale de la fonction dans l'espace, ainsi que d'observer son domaine d'arrivée sur le support choisi :"
   ]
  },
  {
   "cell_type": "code",
   "execution_count": 4,
   "metadata": {},
   "outputs": [
    {
     "data": {},
     "metadata": {},
     "output_type": "display_data"
    }
   ],
   "source": [
    "persp3d(h,\n",
    "        xlim=c(0, 2),\n",
    "        ylim=c(0, 3),\n",
    "        main=\"fonction h\",\n",
    "        ylab=\"y\",\n",
    "        xlab=\"x\")"
   ]
  },
  {
   "cell_type": "markdown",
   "metadata": {},
   "source": [
    "On définit certains paramètres, notamment le maximum de la fonction, en analysant le graphe 3d de la fonction"
   ]
  },
  {
   "cell_type": "code",
   "execution_count": 29,
   "metadata": {},
   "outputs": [],
   "source": [
    "# nombres totales de simulations\n",
    "n = 1000\n",
    "# bornes de l'espace de définition de X\n",
    "inf_x = 0\n",
    "sup_x = 2\n",
    "# bornes de l'espace de définition de Y\n",
    "inf_y = 0\n",
    "sup_y = 3\n",
    "# En regardant la fonction dans persp3d, on peut voir que h est à valeurs dans [0, 8]\n",
    "inf_v = 0\n",
    "sup_v = 8"
   ]
  },
  {
   "cell_type": "markdown",
   "metadata": {},
   "source": [
    "Nous souhaitons approximer l'intégrale de cette fonction (fonction de 2 variables donc double intégrale), qu'on note H.\n",
    "Nous utiliserons pour celà 4 méthodes, que nous comparerons, notamment en terme de vitesse d'éxecution, de vitesse de convergence, et de biais.\n",
    "Les 4 méthodes utilisées sont : \n",
    "- Méthode du Rejet\n",
    "- Méthode de Monte-Carlo\n",
    "- Méthode de la Fonction de Répartition inverse\n",
    "- Méthode de la Copule\n",
    "\n",
    "On calcul dans un premier temps la \"vrai valeur\" de la double intégrale de h (noté, pour rappel H),\n",
    "à l'aide d'une fonction R : quad2d\n",
    "- quad --> permet de calculer une intégrale simple\n",
    "- quad2d --> permet de calculer une intégrale double\n",
    "- quad3d --> permet de calculer une intégrale triple"
   ]
  },
  {
   "cell_type": "code",
   "execution_count": 30,
   "metadata": {},
   "outputs": [
    {
     "data": {
      "text/html": [
       "<span style=white-space:pre-wrap>'Vraie valeur de l\\'intégrale de h :  17.6027082428666'</span>"
      ],
      "text/latex": [
       "'Vraie valeur de l\\textbackslash{}'intégrale de h :  17.6027082428666'"
      ],
      "text/markdown": [
       "<span style=white-space:pre-wrap>'Vraie valeur de l\\'intégrale de h :  17.6027082428666'</span>"
      ],
      "text/plain": [
       "[1] \"Vraie valeur de l'intégrale de h :  17.6027082428666\""
      ]
     },
     "metadata": {},
     "output_type": "display_data"
    }
   ],
   "source": [
    "H = quad2d(h, inf_x, sup_x, inf_y, sup_y)\n",
    "paste(\"Vraie valeur de l'intégrale de h : \", H)"
   ]
  },
  {
   "cell_type": "markdown",
   "metadata": {},
   "source": [
    "On essaye donc ici de calculer:\n",
    "$$\\text{I = } \\int_{0}^{2}\\int_{0}^{3} f(x,y) dx dy $$\n",
    "$$\\text{avec } f(x,y) = 1+log(x+y)*(2*x)$$\n",
    "$$\\text{On sait que I = } {{17.60}}$$ "
   ]
  },
  {
   "cell_type": "markdown",
   "metadata": {},
   "source": [
    "### 1) Méthode du Rejet"
   ]
  },
  {
   "cell_type": "markdown",
   "metadata": {},
   "source": [
    "Nous utilisons dans un 1er temps la méthode du rejet, qui est la suivante : \n",
    " * On simule \"n\" fois 3 variables aléatoires uniformes : 2 pour x et y, et 1 pour f(x, y).\n",
    " On note ces variables aléatoires, respectivement, Ux, Uy, et V;\n",
    " On prendra soin de définir ces uniformes sur le domaine de définition de chaque variable aléatoire\n",
    " * on \"compte\" ensuite, à l'aide d'une variable indicatrice, la proportion de simulations où le point V simulé est inférieur à f(Ux, Uy).\n",
    "En effet, d'après la loi des grands nombres:\n",
    "$$ Sn= \\frac{1}{n} \\sum_{i=1}^{n}\\mathbb{1}[V_i \\leqslant f(Ux_i,Uy_i)] \\underset{p.s}{\\longrightarrow} \\mathbb{P} (V_i \\leqslant f(Ux_i,Uy_i))  = \\frac{\\int_{0}^{2}\\int_{0}^{3} f(x,y) dx dy}{K} $$\n",
    "$$ \\text{avec } U_x = \\mathbb{U}[0,2], U_y = \\mathbb{U}[0,3], V = \\mathbb{U}[0,8] \\text{, et } K = (2-0)(3-0)(8-0) $$\n",
    "$$ \\text{Ainsi } 2*3*8*Sn= \\int_{0}^{2}\\int_{0}^{3} f(x,y) dx dy $$\n"
   ]
  },
  {
   "cell_type": "code",
   "execution_count": 31,
   "metadata": {},
   "outputs": [],
   "source": [
    "ux = runif(n, inf_x, sup_x)\n",
    "uy = runif(n, inf_y, sup_y)\n",
    "\n",
    "v = runif(n, inf_v, sup_v)\n",
    "\n",
    "keeped_values = v <= h(ux, uy) * 1\n",
    "Sn_array1 = 1/(1:n) * cumsum(keeped_values) * ((sup_x-inf_x)*(sup_y-inf_y)*(sup_v-inf_v))\n",
    "Sn1 = 1/n * sum(keeped_values) * ((sup_x-inf_x)*(sup_y-inf_y)*(sup_v-inf_v))\n",
    "biais1 = mean(Sn_array1[n]) - H\n",
    "variance1 = var(Sn_array1 - H)"
   ]
  },
  {
   "cell_type": "markdown",
   "metadata": {},
   "source": [
    "### 2) Méthode de Monte-Carlo"
   ]
  },
  {
   "cell_type": "markdown",
   "metadata": {},
   "source": [
    "La méthode du rejet nécessite de simuler 3 uniformes, ce qui peut être coûteux au regard du nombre de simulations.\n",
    "Or, il est possible d'améliorer celà avec la méthode de Monte-Carlo.\n",
    "Cette dernière repose sur la Loi des Grands Nombres, et on peut ainsi montrer que :\n",
    "$$\\text{Si Ux = } \\mathbb{U}[0,2], Uy = \\mathbb{U}[0,2] \\text{ et on a I tel que } : $$ \n",
    "$$ I= \\int_{0}^{2}\\int_{0}^{3} f(x,y) dx dy$$\n",
    "Alors, si on simule \"n\" fois Ux et Uy : \n",
    "$$ Sn= \\frac{K}{n} \\sum_{i=1}^{n} f(U_{x,i},V_{y,i}) \\underset{n\\to +\\infty}{\\longrightarrow} I $$\n"
   ]
  },
  {
   "cell_type": "code",
   "execution_count": 32,
   "metadata": {},
   "outputs": [],
   "source": [
    "Ux = runif(n, inf_x, sup_x)\n",
    "Uy = runif(n, inf_y, sup_y)\n",
    "\n",
    "Sn_array2 = (sup_x-inf_x) * (sup_y-inf_y) * cumsum(h(Ux, Uy))/(1:n)\n",
    "Sn2 =  1/n * (sup_x-inf_x) * (sup_y-inf_y) * sum(h(Ux, Uy))\n",
    "biais2 = mean(Sn_array2[n]) - H\n",
    "variance2 = var(Sn_array2 - H)"
   ]
  },
  {
   "cell_type": "markdown",
   "metadata": {},
   "source": [
    "### 2.1) Méthode de Monte-Carlo - Variables Antithétiques"
   ]
  },
  {
   "cell_type": "markdown",
   "metadata": {},
   "source": [
    "Il est possible d'encore améliorer la vitesse de convergence de l'estimation.\n",
    "l'idée principale de cette méthode repose sur le fait de remarquer que : \n",
    "$$ \\mathbb{U}_1 \\text{ et } 1-\\mathbb{U}_1 \\text{ont même loi} $$\n",
    "Aussi : \n",
    "$$\\text{Soit } D_x \\text{ et } D_y \\text{ les domaines de définition de x et y}$$\n",
    "Posons :\n",
    "$$ S(x) = sup(D_x), S(y) = sup(D_y) \\text{, les bornes supérieures des domaines de définition de x et y.}$$\n",
    "et :\n",
    "$$ U_{-x} =  (S(x) - U_x), U_{-y} =  (S(y) - U_y)$$\n",
    "Ainsi, puisque nous simulons des variables uniformes afin d'estimer H, il est évident que :\n",
    "$$\\forall U_x \\sim \\mathbb{U}_{[D_x]}, \\forall U_y \\sim \\mathbb{U}_{[D_y]} : U_{-x} \\sim \\mathbb{U}_{[D_x]}, U_{-y} \\sim \\mathbb{U}_{[D_y]}$$\n",
    "On reprends donc l'idée d'une méthode de Monte-Carlo classique, mais à chaque nouvelles simulations, nous obtenons non plus 2 nouvelles variables aléatoires, mais le double, soit 4 : \n",
    "$$ Sn= \\frac{K}{n} \\sum_{i=1}^{n} 1/2 * (f(U_{x,i},U_{y,i}) + f(U_{-x,i},U_{-y,i})) \\underset{n\\to +\\infty}{\\longrightarrow} I $$\n",
    "Ceci a evidement pour effet d'améliorer la vitesse de convergence."
   ]
  },
  {
   "cell_type": "code",
   "execution_count": 33,
   "metadata": {},
   "outputs": [],
   "source": [
    "x = runif(n, inf_x, sup_x)\n",
    "y = runif(n, inf_y, sup_y)\n",
    "\n",
    "Sn_array21 = (sup_x-inf_x) * (sup_y-inf_y) * cumsum(h(x, y) + h(sup_x - x, sup_y - y))/(2*(1:n))\n",
    "Sn21 =  1/n * (sup_x-inf_x) * (sup_y-inf_y) * sum(1/2 * (h(x, y) + h(sup_x - x, sup_y - y)))\n",
    "biais21 = mean(Sn_array21[n]) - H\n",
    "variance21 = var(Sn_array21 - H)"
   ]
  },
  {
   "cell_type": "markdown",
   "metadata": {},
   "source": [
    "### 3) Méthode de la FdR inverse"
   ]
  },
  {
   "cell_type": "markdown",
   "metadata": {},
   "source": [
    "Approximation des densités marginales par des fonctions affines"
   ]
  },
  {
   "cell_type": "markdown",
   "metadata": {},
   "source": [
    "Ceci est une généralisation des méthodes de Monte Carlo:\n",
    "On pose:\n",
    "$$ I= \\int_{\\mathbb{R}^d}  \\frac{f(x)}{p(x)}*p(x)dx $$\n",
    "$$ \\text{où p est une densité} $$\n",
    " On a d'après le théorème de convergence monotone:\n",
    "$$ S_n=\\frac{1}{n}\\sum_{i=1}^{n}  \\frac{f(X_i)}{p(X_i)}\\underset{n\\to +\\infty}{\\longrightarrow} I $$\n",
    "Il est essentiel de trouver une fonction p qui \"ressemble\" à notre fonction.\n",
    "On choisit ici deux fonctions affines:\n",
    "$$ f(x) =0.2+0.3*x $$\n",
    "$$ f(y)=\\frac{2}{15}+ \\frac{2}{15}*y $$"
   ]
  },
  {
   "cell_type": "code",
   "execution_count": 34,
   "metadata": {},
   "outputs": [],
   "source": [
    "fx = function(x)\n",
    "{\n",
    "  return((0.2 + 0.3*x)*(x>=0 && x<=2))\n",
    "}\n",
    "\n",
    "fy = function(y)\n",
    "{\n",
    "  return((2/15 + 2/15*y)*(x>=0 && x<=3))\n",
    "}\n",
    "\n"
   ]
  },
  {
   "cell_type": "markdown",
   "metadata": {},
   "source": [
    "On vérifie que les intégrales sur leurs supports respectifs valent 1"
   ]
  },
  {
   "cell_type": "code",
   "execution_count": 35,
   "metadata": {},
   "outputs": [
    {
     "data": {
      "text/html": [
       "1"
      ],
      "text/latex": [
       "1"
      ],
      "text/markdown": [
       "1"
      ],
      "text/plain": [
       "[1] 1"
      ]
     },
     "metadata": {},
     "output_type": "display_data"
    },
    {
     "data": {
      "text/html": [
       "1"
      ],
      "text/latex": [
       "1"
      ],
      "text/markdown": [
       "1"
      ],
      "text/plain": [
       "[1] 1"
      ]
     },
     "metadata": {},
     "output_type": "display_data"
    }
   ],
   "source": [
    "quad(fx, 0, 2)\n",
    "quad(fy, 0, 3)"
   ]
  },
  {
   "cell_type": "markdown",
   "metadata": {},
   "source": [
    "Simulations de nos X et Y, à partir de la méthode d'inversion"
   ]
  },
  {
   "cell_type": "markdown",
   "metadata": {},
   "source": [
    "Calcul des fonctions de répartition de X et Y à partir de leurs densités"
   ]
  },
  {
   "cell_type": "code",
   "execution_count": 36,
   "metadata": {},
   "outputs": [],
   "source": [
    "Fx = function(x)\n",
    "{\n",
    "  return(0.2*x + 0.15*(x^2))\n",
    "}\n",
    "\n",
    "Fy = function(y)\n",
    "{\n",
    "  return(2/15 * y + ( 1/15*y^2))\n",
    "}"
   ]
  },
  {
   "cell_type": "markdown",
   "metadata": {},
   "source": [
    "Calcul des fonction de répartition inverse"
   ]
  },
  {
   "cell_type": "code",
   "execution_count": 37,
   "metadata": {},
   "outputs": [],
   "source": [
    "Fx_inv = function(x)\n",
    "{\n",
    "  return(sqrt(20/3 * x + 4/9) - 2/3)\n",
    "}\n",
    "\n",
    "Fy_inv = function(y)\n",
    "{\n",
    "  return(sqrt(15*y + 1) - 1)\n",
    "}"
   ]
  },
  {
   "cell_type": "markdown",
   "metadata": {},
   "source": [
    "Maintenant que nous avons les fonctions de répartion inverse on peut simuler nos X et Y !\n",
    "Et ainsi calculer Sn"
   ]
  },
  {
   "cell_type": "code",
   "execution_count": 38,
   "metadata": {},
   "outputs": [],
   "source": [
    "u = runif(n, 0, 1)\n",
    "X = Fx_inv(u)\n",
    "Y = Fy_inv(u)\n",
    "Sn_array3 = 1/(1:n) * cumsum(h(X, Y)/(fx(X)*fy(Y)))\n",
    "Sn3 = 1/n * sum(h(X, Y)/(fx(X)*fy(Y)))\n",
    "biais3 = mean(Sn_array3[n]) - H\n",
    "variance3 = var(Sn_array3 - H)"
   ]
  },
  {
   "cell_type": "markdown",
   "metadata": {},
   "source": [
    "### 4) Méthode de la Copule"
   ]
  },
  {
   "cell_type": "markdown",
   "metadata": {},
   "source": [
    "Dans cette méthode, nous appliquerons les résultats d'une méthode de Monte Carlo mais avec une densité issue du théorème de Sklar. En effet d'après ce dernier:\n",
    "$$ p(x)= f(x)*f(y)*c(F(x),F(Y)) \\text{ est une densité}$$\n",
    "$$\\text{avec c une copule} $$\n",
    "\n",
    "Dans notre exemple nous utiliserons, la copule de Franck.\n",
    "Pour rappel la copule de Franck est \n",
    "\n",
    "$$ C(u,v)=\\frac{-1}{\\theta} ln(1 +\\frac{(e^{-\\theta u}-1)(e^{-\\theta v}-1)}{(e^{-\\theta}-1} $$\n",
    "\n",
    "\n",
    "En dérivant deux fois selon u et v on obtient c(u,v)\n",
    "$$ c(u,v)= \\frac{-\\theta *(e^{-\\theta u}*(e^{-\\theta v}(e^{-\\theta}-1)}{((e^{-\\theta}-1)+((e^{-\\theta u}-1)(e^{-\\theta v}-1))^{2}} $$\n",
    "\n",
    "Mais pour avoir le maximum de points au voisinage du point de coordonnées (1,1), nous renversons la fonction selon v.\n"
   ]
  },
  {
   "cell_type": "code",
   "execution_count": 39,
   "metadata": {},
   "outputs": [],
   "source": [
    "franck=function(u,v) {\n",
    "  teta=0.55\n",
    "  v=1-v\n",
    "    return( (-teta*exp(-teta*u)*exp(-teta*v)*(exp(-teta)-1))/(((exp(-teta)-1)+(exp(-teta*u)-1)*(exp(-teta*v)-1))^2))}"
   ]
  },
  {
   "cell_type": "code",
   "execution_count": 40,
   "metadata": {},
   "outputs": [],
   "source": [
    "h_copule=function(x,y) { fx(x)*fy(y)*franck(Fx(x),Fy(y))}"
   ]
  },
  {
   "cell_type": "markdown",
   "metadata": {},
   "source": [
    "On peut comparer que nous obtenons des graphes similaires entre h et h_copule. (voir graphe ci-joint)"
   ]
  },
  {
   "cell_type": "code",
   "execution_count": 22,
   "metadata": {},
   "outputs": [
    {
     "data": {},
     "metadata": {},
     "output_type": "display_data"
    }
   ],
   "source": [
    "persp3d(h_copule, xlim=c(0, 2),\n",
    "        ylim=c(0, 3),add=T,col=\"blue\")"
   ]
  },
  {
   "cell_type": "code",
   "execution_count": 41,
   "metadata": {},
   "outputs": [],
   "source": [
    "u = runif(n, 0, 1)\n",
    "v=  runif(n, 0, 1)\n",
    "X = Fx_inv(u)\n",
    "Y = Fy_inv(v)\n",
    "\n",
    "Sn_array4 = 1/(1:n) * cumsum(h(X,Y)/(h_copule(X,Y)))\n",
    "Sn4 = 1/n * sum(h(X,Y)/h_copule(X,Y))\n",
    "biais4 = mean(Sn_array4[n]) - H\n",
    "variance4 = var(Sn_array4 - H)\n"
   ]
  },
  {
   "cell_type": "markdown",
   "metadata": {},
   "source": [
    "### Affichage des résultats"
   ]
  },
  {
   "cell_type": "code",
   "execution_count": 42,
   "metadata": {},
   "outputs": [
    {
     "name": "stdout",
     "output_type": "stream",
     "text": [
      "[1] Vraie valeur de l'intégrale de h :  17.6027082428666\n",
      "[1] Méthode 1:\n",
      "[1] Valeur de l'intégrale de h :  16.752 biais:  -0.850708242866585  variance 4.46788448002867\n",
      "[1] Méthode 2:\n",
      "[1] valeur de l'intégrale de h estimé par la méthode 2 :  17.3650202605706 biais:  -0.23768798229603  variance 0.371737389090704\n",
      "[1] Méthode 2.1:\n",
      "[1] valeur de l'intégrale de h estimé par la méthode 2.1 :  17.5240390537184 biais:  -0.0786691891482256  variance 0.0241165260373608\n",
      "[1] Méthode 3:\n",
      "[1] valeur de l'intégrale de h estimé par la méthode 3 :  17.2304444152514 biais:  -0.3722638276152  variance 0.00625246704748968\n",
      "[1] Méthode 4:\n",
      "[1] valeur de l'intégrale de h estimé par la méthode 4 :  17.603755777334 biais:  0.00104753446736439  variance 0.132076971738479\n"
     ]
    },
    {
     "data": {
      "image/png": "[encoded data removed]",
      "text/plain": [
       "Plot with title \"Vitesse de convergence\""
      ]
     },
     "metadata": {},
     "output_type": "display_data"
    }
   ],
   "source": [
    "# \"Vrai valeur de l'intégrale de h\n",
    "print(paste(\"Vraie valeur de l'intégrale de h : \", H),quote=FALSE)\n",
    "# On affiche les résultat des approximations\n",
    "print(paste(\"Méthode 1:\"),quote=FALSE)\n",
    "print(paste(\"Valeur de l'intégrale de h : \", Sn1,\"biais: \",biais1, \" variance\", variance1 ),quote=FALSE) \n",
    "print(paste(\"Méthode 2:\"),quote=FALSE)\n",
    "print(paste(\"valeur de l'intégrale de h estimé par la méthode 2 : \", Sn2,\"biais: \",biais2, \" variance\", variance2),quote=FALSE )\n",
    "print(paste(\"Méthode 2.1:\"),quote=FALSE)\n",
    "print(paste(\"valeur de l'intégrale de h estimé par la méthode 2.1 : \", Sn21,\"biais: \", biais21, \" variance\", variance21),quote=FALSE )\n",
    "print(paste(\"Méthode 3:\"),quote=FALSE)\n",
    "print(paste(\"valeur de l'intégrale de h estimé par la méthode 3 : \", Sn3,\"biais: \", biais3, \" variance\", variance3),quote=FALSE )\n",
    "print(paste(\"Méthode 4:\"),quote=FALSE)\n",
    "print(paste(\"valeur de l'intégrale de h estimé par la méthode 4 : \", Sn4,\"biais: \", biais4, \" variance\", variance4),quote=FALSE )\n",
    "\n",
    "# On affiche le graph des 5 estimateurs afin d'étudier\n",
    "# la vitesse de convergence vers la \"vrai valeur\"\n",
    "plot(Sn_array1,\n",
    "     col=\"gray0\",\n",
    "     type=\"l\",\n",
    "     ylim=c(10,20),\n",
    "     #xlim=x(100, n),\n",
    "     main=\"Vitesse de convergence\",\n",
    "     xlab=\"Nombres de simulations\",\n",
    "     ylab=\"Valeur de l'intégrale estimée\")\n",
    "abline(H, 0)\n",
    "lines(Sn_array2,type=\"l\", col=\"blue\")\n",
    "lines(Sn_array21, col=\"yellow\")\n",
    "lines(Sn_array3, col=\"green\")\n",
    "lines(Sn_array4, col=\"purple\")\n",
    "\n",
    "legend(400, 12.8,\n",
    "       legend=c(\"Méthode des Volumes\",\n",
    "                \"Méthode de Monte Carlo\",\n",
    "                \"Méthode des Variables Antithétiques\",\n",
    "                \"Méthode de la densité jointe\",\n",
    "                \"Méthode des copules\"),\n",
    "       col=c(\"gray0\",\n",
    "             \"blue\",\n",
    "             \"yellow\",\n",
    "             \"green\",\n",
    "             \"purple\"),\n",
    "       lwd=4,\n",
    "       cex=0.8)"
   ]
  },
  {
   "cell_type": "markdown",
   "metadata": {},
   "source": [
    "$$\\textbf{Conclusion:} $$\n",
    "On remarque que l'on obtient des résulats cohérants avec ceux attendus. \n",
    "Les meilleurs méthodes d'approximation sont :\n",
    " * La méthode des Copules\n",
    " * La méthode de Monte-Carlo avec variables antithétiques\n",
    "\n",
    "Ce sont elles qui, à la fois, convergent le plus vite, et dont le biais et la variance sont les plus faibles.\n",
    "Plus précisement, on peut remarquer que la variance de la méthode MC avec variables antithétiques est plus faible que pour la méthode des Copules, mais que le biais de cette dernière est plus faible : c'est un choix classique entre biais et variance, même si ces deux méthodes sont gloabalement équivalentes.\n",
    "Surtout, celà est peut être dû au fait que nous avons dû \"choisir\" une Copule pour approximer notre fonction, qui n'est peut être pas la meilleure possible.\n",
    "\n",
    "La méthode de Monte-Carlo simple finira probablement par donner les mêmes valeurs de biais et de variance que la méthode avec variables antithétiques, mais avec un plus grand nombre de simulations (sa vitesse de convergence est plus faible).\n",
    "\n",
    "En ce qui concerne la méthode de la densité jointe, on peut constater une vitesse de convergence trés rapide, mais présentant un biais important.\n",
    "Ceci est principalement dû au fait que nous ayons dû approximer les densités des variables x et y par des fonctions affines, et qui ne sont probablement pas les meilleurs estimations possibles.\n",
    "\n",
    "Enfin, la méthode des volumes, comme on peut s'y attendre, présente une faible vitesse de convergence, avec un biais et une variance très importante."
   ]
  },
  {
   "cell_type": "code",
   "execution_count": null,
   "metadata": {},
   "outputs": [],
   "source": []
  }
 ],
 "metadata": {
  "kernelspec": {
   "display_name": "R",
   "language": "R",
   "name": "ir"
  },
  "language_info": {
   "codemirror_mode": "r",
   "file_extension": ".r",
   "mimetype": "text/x-r-source",
   "name": "R",
   "pygments_lexer": "r",
   "version": "3.4.2"
  }
 },
 "nbformat": 4,
 "nbformat_minor": 2
}
